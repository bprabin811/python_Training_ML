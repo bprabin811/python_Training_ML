{
 "cells": [
  {
   "cell_type": "code",
   "execution_count": 10,
   "id": "a7ada770",
   "metadata": {},
   "outputs": [
    {
     "name": "stdout",
     "output_type": "stream",
     "text": [
      "Hello\n"
     ]
    }
   ],
   "source": [
    "print('Hello')"
   ]
  },
  {
   "cell_type": "code",
   "execution_count": 11,
   "id": "142b6df0",
   "metadata": {},
   "outputs": [],
   "source": [
    "import pandas as pd\n"
   ]
  },
  {
   "cell_type": "code",
   "execution_count": 12,
   "id": "2c9c6b88",
   "metadata": {},
   "outputs": [],
   "source": [
    "df=pd.read_csv('veg.csv')"
   ]
  },
  {
   "cell_type": "code",
   "execution_count": 13,
   "id": "47de52a7",
   "metadata": {},
   "outputs": [
    {
     "data": {
      "text/html": [
       "<div>\n",
       "<style scoped>\n",
       "    .dataframe tbody tr th:only-of-type {\n",
       "        vertical-align: middle;\n",
       "    }\n",
       "\n",
       "    .dataframe tbody tr th {\n",
       "        vertical-align: top;\n",
       "    }\n",
       "\n",
       "    .dataframe thead th {\n",
       "        text-align: right;\n",
       "    }\n",
       "</style>\n",
       "<table border=\"1\" class=\"dataframe\">\n",
       "  <thead>\n",
       "    <tr style=\"text-align: right;\">\n",
       "      <th></th>\n",
       "      <th>id</th>\n",
       "      <th>name</th>\n",
       "      <th>desc</th>\n",
       "      <th>price</th>\n",
       "      <th>img</th>\n",
       "    </tr>\n",
       "  </thead>\n",
       "  <tbody>\n",
       "    <tr>\n",
       "      <th>0</th>\n",
       "      <td>1</td>\n",
       "      <td>Cabbage</td>\n",
       "      <td>Fresh and Local Products.</td>\n",
       "      <td>56</td>\n",
       "      <td>cabbage.jpg</td>\n",
       "    </tr>\n",
       "    <tr>\n",
       "      <th>1</th>\n",
       "      <td>2</td>\n",
       "      <td>Potato</td>\n",
       "      <td>Fresh and Local Products.</td>\n",
       "      <td>70</td>\n",
       "      <td>potato.jpg</td>\n",
       "    </tr>\n",
       "    <tr>\n",
       "      <th>2</th>\n",
       "      <td>3</td>\n",
       "      <td>Onion</td>\n",
       "      <td>Fresh and Local Products.</td>\n",
       "      <td>85</td>\n",
       "      <td>onion.jpg</td>\n",
       "    </tr>\n",
       "    <tr>\n",
       "      <th>3</th>\n",
       "      <td>4</td>\n",
       "      <td>Tomato</td>\n",
       "      <td>Fresh and Local Products.</td>\n",
       "      <td>60</td>\n",
       "      <td>tomato.jpg</td>\n",
       "    </tr>\n",
       "    <tr>\n",
       "      <th>4</th>\n",
       "      <td>5</td>\n",
       "      <td>Rayo</td>\n",
       "      <td>Fresh and Local Products.</td>\n",
       "      <td>40</td>\n",
       "      <td>rayo.jpg</td>\n",
       "    </tr>\n",
       "  </tbody>\n",
       "</table>\n",
       "</div>"
      ],
      "text/plain": [
       "   id     name                       desc  price          img\n",
       "0   1  Cabbage  Fresh and Local Products.     56  cabbage.jpg\n",
       "1   2   Potato  Fresh and Local Products.     70   potato.jpg\n",
       "2   3    Onion  Fresh and Local Products.     85    onion.jpg\n",
       "3   4   Tomato  Fresh and Local Products.     60   tomato.jpg\n",
       "4   5     Rayo  Fresh and Local Products.     40     rayo.jpg"
      ]
     },
     "execution_count": 13,
     "metadata": {},
     "output_type": "execute_result"
    }
   ],
   "source": [
    "df"
   ]
  },
  {
   "cell_type": "code",
   "execution_count": 14,
   "id": "b9971a10",
   "metadata": {},
   "outputs": [],
   "source": [
    "df.to_json('veg.json')"
   ]
  },
  {
   "cell_type": "code",
   "execution_count": 15,
   "id": "a97c1f5f",
   "metadata": {},
   "outputs": [],
   "source": [
    "df2=pd.read_json(\"veg.json\")"
   ]
  },
  {
   "cell_type": "code",
   "execution_count": 16,
   "id": "ba55e22e",
   "metadata": {},
   "outputs": [
    {
     "data": {
      "text/html": [
       "<div>\n",
       "<style scoped>\n",
       "    .dataframe tbody tr th:only-of-type {\n",
       "        vertical-align: middle;\n",
       "    }\n",
       "\n",
       "    .dataframe tbody tr th {\n",
       "        vertical-align: top;\n",
       "    }\n",
       "\n",
       "    .dataframe thead th {\n",
       "        text-align: right;\n",
       "    }\n",
       "</style>\n",
       "<table border=\"1\" class=\"dataframe\">\n",
       "  <thead>\n",
       "    <tr style=\"text-align: right;\">\n",
       "      <th></th>\n",
       "      <th>id</th>\n",
       "      <th>name</th>\n",
       "      <th>desc</th>\n",
       "      <th>price</th>\n",
       "      <th>img</th>\n",
       "    </tr>\n",
       "  </thead>\n",
       "  <tbody>\n",
       "    <tr>\n",
       "      <th>0</th>\n",
       "      <td>vid-1</td>\n",
       "      <td>Cabbage</td>\n",
       "      <td>Fresh and Local Products.</td>\n",
       "      <td>56</td>\n",
       "      <td>cabbage.jpg</td>\n",
       "    </tr>\n",
       "    <tr>\n",
       "      <th>1</th>\n",
       "      <td>vid-2</td>\n",
       "      <td>Potato</td>\n",
       "      <td>Fresh and Local Products.</td>\n",
       "      <td>70</td>\n",
       "      <td>potato.jpg</td>\n",
       "    </tr>\n",
       "    <tr>\n",
       "      <th>2</th>\n",
       "      <td>vid-3</td>\n",
       "      <td>Onion</td>\n",
       "      <td>Fresh and Local Products.</td>\n",
       "      <td>85</td>\n",
       "      <td>onion.jpg</td>\n",
       "    </tr>\n",
       "    <tr>\n",
       "      <th>3</th>\n",
       "      <td>vid-4</td>\n",
       "      <td>Tomato</td>\n",
       "      <td>Fresh and Local Products.</td>\n",
       "      <td>60</td>\n",
       "      <td>tomato.jpg</td>\n",
       "    </tr>\n",
       "    <tr>\n",
       "      <th>4</th>\n",
       "      <td>vid-5</td>\n",
       "      <td>Rayo</td>\n",
       "      <td>Fresh and Local Products.</td>\n",
       "      <td>40</td>\n",
       "      <td>rayo.jpg</td>\n",
       "    </tr>\n",
       "  </tbody>\n",
       "</table>\n",
       "</div>"
      ],
      "text/plain": [
       "      id     name                       desc  price          img\n",
       "0  vid-1  Cabbage  Fresh and Local Products.     56  cabbage.jpg\n",
       "1  vid-2   Potato  Fresh and Local Products.     70   potato.jpg\n",
       "2  vid-3    Onion  Fresh and Local Products.     85    onion.jpg\n",
       "3  vid-4   Tomato  Fresh and Local Products.     60   tomato.jpg\n",
       "4  vid-5     Rayo  Fresh and Local Products.     40     rayo.jpg"
      ]
     },
     "execution_count": 16,
     "metadata": {},
     "output_type": "execute_result"
    }
   ],
   "source": [
    "df2"
   ]
  },
  {
   "cell_type": "code",
   "execution_count": 25,
   "id": "e301c396",
   "metadata": {},
   "outputs": [
    {
     "data": {
      "text/html": [
       "<div>\n",
       "<style scoped>\n",
       "    .dataframe tbody tr th:only-of-type {\n",
       "        vertical-align: middle;\n",
       "    }\n",
       "\n",
       "    .dataframe tbody tr th {\n",
       "        vertical-align: top;\n",
       "    }\n",
       "\n",
       "    .dataframe thead th {\n",
       "        text-align: right;\n",
       "    }\n",
       "</style>\n",
       "<table border=\"1\" class=\"dataframe\">\n",
       "  <thead>\n",
       "    <tr style=\"text-align: right;\">\n",
       "      <th></th>\n",
       "      <th>name</th>\n",
       "      <th>img</th>\n",
       "    </tr>\n",
       "  </thead>\n",
       "  <tbody>\n",
       "    <tr>\n",
       "      <th>0</th>\n",
       "      <td>Cabbage</td>\n",
       "      <td>cabbage.jpg</td>\n",
       "    </tr>\n",
       "    <tr>\n",
       "      <th>1</th>\n",
       "      <td>Potato</td>\n",
       "      <td>potato.jpg</td>\n",
       "    </tr>\n",
       "    <tr>\n",
       "      <th>2</th>\n",
       "      <td>Onion</td>\n",
       "      <td>onion.jpg</td>\n",
       "    </tr>\n",
       "    <tr>\n",
       "      <th>3</th>\n",
       "      <td>Tomato</td>\n",
       "      <td>tomato.jpg</td>\n",
       "    </tr>\n",
       "    <tr>\n",
       "      <th>4</th>\n",
       "      <td>Rayo</td>\n",
       "      <td>rayo.jpg</td>\n",
       "    </tr>\n",
       "  </tbody>\n",
       "</table>\n",
       "</div>"
      ],
      "text/plain": [
       "      name          img\n",
       "0  Cabbage  cabbage.jpg\n",
       "1   Potato   potato.jpg\n",
       "2    Onion    onion.jpg\n",
       "3   Tomato   tomato.jpg\n",
       "4     Rayo     rayo.jpg"
      ]
     },
     "execution_count": 25,
     "metadata": {},
     "output_type": "execute_result"
    }
   ],
   "source": [
    "df2.drop(['price','desc','id'],axis='columns')"
   ]
  },
  {
   "cell_type": "code",
   "execution_count": null,
   "id": "7f8800b8",
   "metadata": {},
   "outputs": [],
   "source": []
  },
  {
   "cell_type": "code",
   "execution_count": null,
   "id": "1ac14272",
   "metadata": {},
   "outputs": [],
   "source": []
  }
 ],
 "metadata": {
  "kernelspec": {
   "display_name": "Python 3 (ipykernel)",
   "language": "python",
   "name": "python3"
  },
  "language_info": {
   "codemirror_mode": {
    "name": "ipython",
    "version": 3
   },
   "file_extension": ".py",
   "mimetype": "text/x-python",
   "name": "python",
   "nbconvert_exporter": "python",
   "pygments_lexer": "ipython3",
   "version": "3.10.4"
  }
 },
 "nbformat": 4,
 "nbformat_minor": 5
}
