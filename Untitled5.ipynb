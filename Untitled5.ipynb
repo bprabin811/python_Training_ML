{
 "cells": [
  {
   "cell_type": "code",
   "execution_count": 236,
   "id": "64d86eed",
   "metadata": {},
   "outputs": [],
   "source": [
    "from tkinter import Tk"
   ]
  },
  {
   "cell_type": "code",
   "execution_count": 237,
   "id": "89d4661c",
   "metadata": {},
   "outputs": [],
   "source": [
    "from tkinter import *"
   ]
  },
  {
   "cell_type": "code",
   "execution_count": 238,
   "id": "9b53c53e",
   "metadata": {},
   "outputs": [],
   "source": [
    "from pytube import YouTube"
   ]
  },
  {
   "cell_type": "code",
   "execution_count": 239,
   "id": "243470d5",
   "metadata": {},
   "outputs": [],
   "source": [
    "from PIL import ImageTk,Image"
   ]
  },
  {
   "cell_type": "code",
   "execution_count": 240,
   "id": "c54dd593",
   "metadata": {},
   "outputs": [],
   "source": [
    "root=Tk()"
   ]
  },
  {
   "cell_type": "code",
   "execution_count": 241,
   "id": "9ffb892e",
   "metadata": {},
   "outputs": [
    {
     "data": {
      "text/plain": [
       "''"
      ]
     },
     "execution_count": 241,
     "metadata": {},
     "output_type": "execute_result"
    }
   ],
   "source": [
    "root.title(\"Youtube Downloader\")"
   ]
  },
  {
   "cell_type": "code",
   "execution_count": 242,
   "id": "ec3d23b5",
   "metadata": {},
   "outputs": [
    {
     "data": {
      "text/plain": [
       "''"
      ]
     },
     "execution_count": 242,
     "metadata": {},
     "output_type": "execute_result"
    }
   ],
   "source": [
    "root.geometry('500x300')"
   ]
  },
  {
   "cell_type": "code",
   "execution_count": 243,
   "id": "4af595ea",
   "metadata": {},
   "outputs": [
    {
     "data": {
      "text/plain": [
       "''"
      ]
     },
     "execution_count": 243,
     "metadata": {},
     "output_type": "execute_result"
    }
   ],
   "source": [
    "root.resizable(False,False)"
   ]
  },
  {
   "cell_type": "code",
   "execution_count": 244,
   "id": "9a216ab6",
   "metadata": {},
   "outputs": [],
   "source": [
    "root.configure(bg='#000000')"
   ]
  },
  {
   "cell_type": "code",
   "execution_count": 245,
   "id": "ea3ce613",
   "metadata": {},
   "outputs": [],
   "source": [
    "link=StringVar()"
   ]
  },
  {
   "cell_type": "code",
   "execution_count": 246,
   "id": "767338f7",
   "metadata": {},
   "outputs": [],
   "source": [
    "img = ImageTk.PhotoImage(Image.open(\"/Users/bprab/Desktop/Training/playstore.png\"))"
   ]
  },
  {
   "cell_type": "code",
   "execution_count": 247,
   "id": "71dfcc45",
   "metadata": {},
   "outputs": [],
   "source": [
    "lovely=Label(image = img,width=500,height=300)"
   ]
  },
  {
   "cell_type": "code",
   "execution_count": 249,
   "id": "b150b111",
   "metadata": {},
   "outputs": [],
   "source": [
    "label_result=Label(root,width=40,height=2,text='Enter a link',font='arial,30').place(x=150,y=55)"
   ]
  },
  {
   "cell_type": "code",
   "execution_count": 250,
   "id": "03d292df",
   "metadata": {},
   "outputs": [],
   "source": [
    "Link_enter = Entry(root, width=70, textvariable=link).place(x=30, y=85)"
   ]
  },
  {
   "cell_type": "code",
   "execution_count": 255,
   "id": "0b65f4bb",
   "metadata": {},
   "outputs": [],
   "source": [
    "def download():\n",
    "\n",
    "    url=YouTube(str(link.get()))\n",
    "    video=url.streams.first()\n",
    "    video.download()\n",
    "    Label(root,text=\"Downloaded\",font=\"arial 15\").place(x=50,y=100)"
   ]
  },
  {
   "cell_type": "code",
   "execution_count": 256,
   "id": "0a961709",
   "metadata": {},
   "outputs": [],
   "source": [
    "Button(root, text='Download', width=10, height=18, font=(\"arial\", 30, 'bold'), bd=1, fg=\"#FF0000\",bg=\"#0000FF\", command=\"download\").place(x=100,y=150)"
   ]
  },
  {
   "cell_type": "code",
   "execution_count": 257,
   "id": "3a8c3cc9",
   "metadata": {},
   "outputs": [
    {
     "ename": "AttributeError",
     "evalue": "'NoneType' object has no attribute 'pack'",
     "output_type": "error",
     "traceback": [
      "\u001b[1;31m---------------------------------------------------------------------------\u001b[0m",
      "\u001b[1;31mAttributeError\u001b[0m                            Traceback (most recent call last)",
      "Input \u001b[1;32mIn [257]\u001b[0m, in \u001b[0;36m<cell line: 1>\u001b[1;34m()\u001b[0m\n\u001b[1;32m----> 1\u001b[0m \u001b[43mlabel_result\u001b[49m\u001b[38;5;241;43m.\u001b[39;49m\u001b[43mpack\u001b[49m()\n",
      "\u001b[1;31mAttributeError\u001b[0m: 'NoneType' object has no attribute 'pack'"
     ]
    }
   ],
   "source": [
    "label_result.pack()"
   ]
  },
  {
   "cell_type": "code",
   "execution_count": 258,
   "id": "30d0a670",
   "metadata": {},
   "outputs": [],
   "source": [
    "lovely.pack()"
   ]
  },
  {
   "cell_type": "code",
   "execution_count": 259,
   "id": "8f8b59f1",
   "metadata": {},
   "outputs": [],
   "source": [
    "root.mainloop()"
   ]
  },
  {
   "cell_type": "code",
   "execution_count": null,
   "id": "1ed8c906",
   "metadata": {},
   "outputs": [],
   "source": []
  }
 ],
 "metadata": {
  "kernelspec": {
   "display_name": "Python 3 (ipykernel)",
   "language": "python",
   "name": "python3"
  },
  "language_info": {
   "codemirror_mode": {
    "name": "ipython",
    "version": 3
   },
   "file_extension": ".py",
   "mimetype": "text/x-python",
   "name": "python",
   "nbconvert_exporter": "python",
   "pygments_lexer": "ipython3",
   "version": "3.10.4"
  }
 },
 "nbformat": 4,
 "nbformat_minor": 5
}
